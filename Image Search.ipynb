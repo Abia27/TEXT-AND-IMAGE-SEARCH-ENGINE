{
 "cells": [
  {
   "cell_type": "markdown",
   "id": "0cdbd6a9",
   "metadata": {},
   "source": [
    "***Image Similarity***"
   ]
  },
  {
   "cell_type": "code",
   "execution_count": 95,
   "id": "e1be4503",
   "metadata": {},
   "outputs": [],
   "source": [
    "import os\n",
    "import cv2\n",
    "import numpy as np\n",
    "from scipy.spatial.distance import cosine"
   ]
  },
  {
   "cell_type": "code",
   "execution_count": 96,
   "id": "09edc4aa",
   "metadata": {},
   "outputs": [],
   "source": [
    "def preprocess_image(image_path, desired_width=256, desired_height=256):\n",
    "    if not os.path.exists(image_path):\n",
    "        raise FileNotFoundError(f\"Image file '{image_path}' not found.\")\n",
    "    image = cv2.imread(image_path)\n",
    "    if image is None:\n",
    "        raise ValueError(f\"Failed to load image from '{image_path}'.\")\n",
    "    if image.size == 0:       # Resizing the image \n",
    "        raise ValueError(\"Loaded image has empty size.\")\n",
    "    image = cv2.resize(image, (desired_width, desired_height))\n",
    "    # Converting the image to grayscale\n",
    "    gray_image = cv2.cvtColor(image, cv2.COLOR_BGR2GRAY)\n",
    "    return gray_image\n",
    "\n",
    "def compute_features(image):\n",
    "    hog = cv2.HOGDescriptor()\n",
    "    features = hog.compute(image)\n",
    "    \n",
    "    return features\n"
   ]
  },
  {
   "cell_type": "code",
   "execution_count": 97,
   "id": "50d191fe",
   "metadata": {},
   "outputs": [],
   "source": [
    "def load_indexed_features(features_output_folder):\n",
    "    indexed_features = {}\n",
    "    for filename in os.listdir(features_output_folder):\n",
    "        if filename.endswith('.npz'):\n",
    "            features_output_path = os.path.join(features_output_folder, filename)\n",
    "            features_data = np.load(features_output_path)\n",
    "            indexed_features[filename[:-4]] = features_data['features']\n",
    "    \n",
    "    return indexed_features\n"
   ]
  },
  {
   "cell_type": "code",
   "execution_count": 98,
   "id": "c8dcf49b",
   "metadata": {},
   "outputs": [
    {
     "name": "stdout",
     "output_type": "stream",
     "text": [
      "Enter the name of the image you want to search for: panda\n",
      "Top 5 matching images:\n",
      "panda\n",
      "wolf2\n",
      "persona\n",
      "dog\n",
      "tiger\n"
     ]
    }
   ],
   "source": [
    "def search_image(query_name, indexed_features):\n",
    "    if query_name not in indexed_features:\n",
    "        print(f\"No images found for '{query_name}'.\")\n",
    "        return []\n",
    "    query_features = indexed_features[query_name]\n",
    "    similarity_scores = {}\n",
    "    for image_name, features in indexed_features.items():\n",
    "        # Computing cosine distance between features\n",
    "        similarity_scores[image_name] = cosine(query_features.flatten(), features.flatten())\n",
    "    \n",
    "    # Sorting the images based on similarity scores\n",
    "    sorted_images = sorted(similarity_scores.items(), key=lambda x: x[1])\n",
    "    \n",
    "    # Returning top 5 matching image names\n",
    "    top_matches = [image_name for image_name, _ in sorted_images[:5]]\n",
    "    return top_matches\n",
    "\n",
    "folder_path = r'C:\\Users\\Dell\\Pictures\\PAI_Project\\data\\images'\n",
    "features_output_folder = r'C:\\Users\\Dell\\Pictures\\PAI_Project\\data\\features'\n",
    "\n",
    "indexed_features = load_indexed_features(features_output_folder)\n",
    "\n",
    "query_name = input(\"Enter the name of the image you want to search for: \")\n",
    "\n",
    "# Searching\n",
    "top_matches = search_image(query_name, indexed_features)\n",
    "if top_matches:\n",
    "    print(\"Top 5 matching images:\")\n",
    "    for match in top_matches:\n",
    "        print(match)\n",
    "else:\n",
    "    print(\"No matching images found.\")\n"
   ]
  },
  {
   "cell_type": "code",
   "execution_count": null,
   "id": "3c0bec62",
   "metadata": {},
   "outputs": [],
   "source": []
  }
 ],
 "metadata": {
  "kernelspec": {
   "display_name": "Python 3 (ipykernel)",
   "language": "python",
   "name": "python3"
  },
  "language_info": {
   "codemirror_mode": {
    "name": "ipython",
    "version": 3
   },
   "file_extension": ".py",
   "mimetype": "text/x-python",
   "name": "python",
   "nbconvert_exporter": "python",
   "pygments_lexer": "ipython3",
   "version": "3.11.4"
  }
 },
 "nbformat": 4,
 "nbformat_minor": 5
}
